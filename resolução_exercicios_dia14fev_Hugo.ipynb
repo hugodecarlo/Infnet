{
  "nbformat": 4,
  "nbformat_minor": 0,
  "metadata": {
    "colab": {
      "name": "resolução_exercicios_dia14fev_Hugo.ipynb",
      "provenance": [],
      "collapsed_sections": [],
      "authorship_tag": "ABX9TyORGBhvLfFtnDyaaMWqi3Kt",
      "include_colab_link": true
    },
    "kernelspec": {
      "name": "python3",
      "display_name": "Python 3"
    },
    "language_info": {
      "name": "python"
    }
  },
  "cells": [
    {
      "cell_type": "markdown",
      "metadata": {
        "id": "view-in-github",
        "colab_type": "text"
      },
      "source": [
        "<a href=\"https://colab.research.google.com/github/hugodecarlo/Infnet/blob/main/resolu%C3%A7%C3%A3o_exercicios_dia14fev_Hugo.ipynb\" target=\"_parent\"><img src=\"https://colab.research.google.com/assets/colab-badge.svg\" alt=\"Open In Colab\"/></a>"
      ]
    },
    {
      "cell_type": "markdown",
      "source": [
        "1)Passe por todos os números até 99 (começando em 1). Imprima 'fizz' para cada número que é divisível por 7, imprima 'buzz' para cada número divisível por 5 e imprima 'fizzbuzz' para cada número divisível por 7 e 5! Se o número não for divisível por 7 ou 5, imprima um travessão (‘-‘)!\n",
        "\n",
        "Para descubrir se um número x é divisível por y use operador (%):\n",
        "\n",
        "x % y retorna True se x é divísel por y, False se não for. \n",
        "\n",
        "Dica : use FOR , IF, ELIF, ELSE"
      ],
      "metadata": {
        "id": "FXA7pbYlx7sg"
      }
    },
    {
      "cell_type": "code",
      "source": [
        "\n",
        "for i in range(1,100):\n",
        "  if ( (i%5 == 0) and (i%7 == 0) ):\n",
        "    txt=\" fizzbuzz\"\n",
        "  elif (i%7 == 0):\n",
        "    txt=\" buzz\"\n",
        "  elif (i%5 == 0):\n",
        "    txt=\" fizz\"\n",
        "  else:   \n",
        "    txt=\"-\"\n",
        "  \n",
        "  print(str(i) + txt)\n"
      ],
      "metadata": {
        "colab": {
          "base_uri": "https://localhost:8080/"
        },
        "id": "8FYp_yUex-dx",
        "outputId": "590fb4d0-7a30-450d-87c7-5b47e33f359d"
      },
      "execution_count": null,
      "outputs": [
        {
          "output_type": "stream",
          "name": "stdout",
          "text": [
            "1-\n",
            "2-\n",
            "3-\n",
            "4-\n",
            "5 fizz\n",
            "6-\n",
            "7 buzz\n",
            "8-\n",
            "9-\n",
            "10 fizz\n",
            "11-\n",
            "12-\n",
            "13-\n",
            "14 buzz\n",
            "15 fizz\n",
            "16-\n",
            "17-\n",
            "18-\n",
            "19-\n",
            "20 fizz\n",
            "21 buzz\n",
            "22-\n",
            "23-\n",
            "24-\n",
            "25 fizz\n",
            "26-\n",
            "27-\n",
            "28 buzz\n",
            "29-\n",
            "30 fizz\n",
            "31-\n",
            "32-\n",
            "33-\n",
            "34-\n",
            "35 fizzbuzz\n",
            "36-\n",
            "37-\n",
            "38-\n",
            "39-\n",
            "40 fizz\n",
            "41-\n",
            "42 buzz\n",
            "43-\n",
            "44-\n",
            "45 fizz\n",
            "46-\n",
            "47-\n",
            "48-\n",
            "49 buzz\n",
            "50 fizz\n",
            "51-\n",
            "52-\n",
            "53-\n",
            "54-\n",
            "55 fizz\n",
            "56 buzz\n",
            "57-\n",
            "58-\n",
            "59-\n",
            "60 fizz\n",
            "61-\n",
            "62-\n",
            "63 buzz\n",
            "64-\n",
            "65 fizz\n",
            "66-\n",
            "67-\n",
            "68-\n",
            "69-\n",
            "70 fizzbuzz\n",
            "71-\n",
            "72-\n",
            "73-\n",
            "74-\n",
            "75 fizz\n",
            "76-\n",
            "77 buzz\n",
            "78-\n",
            "79-\n",
            "80 fizz\n",
            "81-\n",
            "82-\n",
            "83-\n",
            "84 buzz\n",
            "85 fizz\n",
            "86-\n",
            "87-\n",
            "88-\n",
            "89-\n",
            "90 fizz\n",
            "91 buzz\n",
            "92-\n",
            "93-\n",
            "94-\n",
            "95 fizz\n",
            "96-\n",
            "97-\n",
            "98 buzz\n",
            "99-\n"
          ]
        }
      ]
    },
    {
      "cell_type": "markdown",
      "source": [
        "2) Os filmes/séries podem ser classificados conforme o seu genero (ação,comédia, drama, terror etc). Considerando as classificações abaixo:\n",
        "\n",
        "a) Ação = Jumanji, Projeto Gemini,The old guard,WandaVision.\n",
        "\n",
        "b) Comédia = Jumanji,How I Met Your Mother,Friends, Amigos para sempre.\n",
        "\n",
        "c) Drama = Amigos para sempre, After,Game of Thrones, WandaVision.\n",
        "\n",
        "Tarefas:\n",
        "\n",
        "3.1 - Cria uma lista de listas para representar cada um dos conjuntos acima.\n",
        "\n",
        "3.2 - Usando a lista criada em 3.1, escreva um programa que \"print\" na tela a quantidade de caracteres de cada título.\n"
      ],
      "metadata": {
        "id": "2kxkbXB72tQ9"
      }
    },
    {
      "cell_type": "code",
      "source": [
        "acao =['Jumanji','Projeto Gemini','The old guard','WandaVision']\n",
        "comedia= ['Jumanji','How I Met Your Mother','Friends','Amigos para sempre']\n",
        "drama = ['Amigos para sempre', 'After','Game of Thrones','WandaVision']\n",
        "\n",
        "lista_unica=[]\n",
        "lista = acao + comedia + drama\n",
        "for filme in lista:\n",
        "  if filme not in lista_unica:\n",
        "    lista_unica.append(filme)\n",
        "    print(filme + \" tem \" + str(len(filme)) + \" caracteres\")\n",
        "\n"
      ],
      "metadata": {
        "colab": {
          "base_uri": "https://localhost:8080/"
        },
        "id": "Cph77zDX2spi",
        "outputId": "a9cbd4b4-b138-48ee-91f4-0c961629c6b6"
      },
      "execution_count": null,
      "outputs": [
        {
          "output_type": "stream",
          "name": "stdout",
          "text": [
            "Jumanji tem 7 caracteres\n",
            "Projeto Gemini tem 14 caracteres\n",
            "The old guard tem 13 caracteres\n",
            "WandaVision tem 11 caracteres\n",
            "How I Met Your Mother tem 21 caracteres\n",
            "Friends tem 7 caracteres\n",
            "Amigos para sempre tem 18 caracteres\n",
            "After tem 5 caracteres\n",
            "Game of Thrones tem 15 caracteres\n"
          ]
        }
      ]
    },
    {
      "cell_type": "markdown",
      "source": [
        "3) Escreva um programa que calcule o fatorial de um número (entre com o número usando input). Sabendo que:\n",
        "\n",
        "a) n! = n(n-1)(n-2)...1\n",
        "\n",
        "b) 1! = 1\n",
        "\n",
        "c) 0! = 1\n",
        "\n",
        "Dica: Use While\n"
      ],
      "metadata": {
        "id": "XeYCdmJX7nDs"
      }
    },
    {
      "cell_type": "code",
      "source": [
        "numero = input(\"digite um numero: \")\n",
        "try: \n",
        "  num = 1\n",
        "  fatorial = 1\n",
        "  while (num<= int(numero) ):\n",
        "    fatorial = fatorial * num\n",
        "    num = num +1\n",
        "  print(fatorial)\n",
        "  \n",
        "except:\n",
        "  print(\"entre com um numero válido\")"
      ],
      "metadata": {
        "colab": {
          "base_uri": "https://localhost:8080/"
        },
        "id": "9PVFEvrN_Oyo",
        "outputId": "9fdddfe8-7ee8-448f-8fd5-c396fbfe9706"
      },
      "execution_count": null,
      "outputs": [
        {
          "output_type": "stream",
          "name": "stdout",
          "text": [
            "digite um numero: 1.3\n",
            "entre com um numero válido\n"
          ]
        }
      ]
    },
    {
      "cell_type": "markdown",
      "source": [
        "4) Desafio\n",
        "\n",
        "Considerando o problema 3):\n",
        "\n",
        "5.1) Crie um dicionário no qual cada chave representa o genero do filme;\n",
        "\n",
        "5.2) Em um sistema de recomendação baseado em conteúdos, deseja-se saber as classificações (generos) de cada filme. Faça um programa que usando o dicionário criado em 5.1, retorne os generos associados a cada filme. (Dica: use um outro dicionário)."
      ],
      "metadata": {
        "id": "51J1urCcLHqh"
      }
    },
    {
      "cell_type": "code",
      "source": [
        "#list_acao =['Jumanji','Projeto Gemini','The old guard','WandaVision']\n",
        "#list_comedia= ['Jumanji','How I Met Your Mother','Friends','Amigos para sempre']\n",
        "#list_drama = ['Amigos para sempre', 'After','Game of Thrones','WandaVision']\n",
        "\n",
        "My_dict ={\"Acao\":['Jumanji','Projeto Gemini','The old guard','WandaVision'],\"Comedia\":['Jumanji','How I Met Your Mother','Friends','Amigos para sempre'],\"Drama\":['Amigos para sempre', 'After','Game of Thrones','WandaVision']}\n",
        "My_dict_filme = {}\n",
        "\n",
        "print(\"#####################################################\")\n",
        "print(\"Impressão do dicionário solicitado no item 5.1\")\n",
        "print(\"neste dicionário a chave é o gênero do filme\")\n",
        "print(\"#####################################################\\n\")\n",
        "\n",
        "for item in My_dict:\n",
        "  print(item)\n",
        "  print(My_dict[item])\n",
        "\n",
        "for genero in My_dict:\n",
        "  lista = My_dict[genero]\n",
        "  for valor in lista:\n",
        "    if(valor not in My_dict_filme):\n",
        "      My_dict_filme[valor] = [genero]\n",
        "    else:\n",
        "      My_dict_filme[valor].append(genero)\n",
        "\n",
        "print(\"\\n#####################################################\")\n",
        "print(\"Impressão do dicionário solicitado no item 5.2\")\n",
        "print(\"neste dicionário a chave é o filme\")\n",
        "print(\"#####################################################\\n\")\n",
        "\n",
        "for filme in My_dict_filme:\n",
        "  print(filme , \" gênero: \" + str(My_dict_filme[filme]))\n",
        "\n",
        "\n"
      ],
      "metadata": {
        "colab": {
          "base_uri": "https://localhost:8080/"
        },
        "id": "ok--bGH5LUVT",
        "outputId": "b7dee85d-890e-432b-8d22-cd03f908083b"
      },
      "execution_count": null,
      "outputs": [
        {
          "output_type": "stream",
          "name": "stdout",
          "text": [
            "#####################################################\n",
            "Impressão do dicionário solicitado no item 5.1\n",
            "neste dicionário a chave é o gênero do filme\n",
            "#####################################################\n",
            "\n",
            "Acao\n",
            "['Jumanji', 'Projeto Gemini', 'The old guard', 'WandaVision']\n",
            "Comedia\n",
            "['Jumanji', 'How I Met Your Mother', 'Friends', 'Amigos para sempre']\n",
            "Drama\n",
            "['Amigos para sempre', 'After', 'Game of Thrones', 'WandaVision']\n",
            "\n",
            "#####################################################\n",
            "Impressão do dicionário solicitado no item 5.2\n",
            "neste dicionário a chave é o filme\n",
            "#####################################################\n",
            "\n",
            "Jumanji  gênero: ['Acao', 'Comedia']\n",
            "Projeto Gemini  gênero: ['Acao']\n",
            "The old guard  gênero: ['Acao']\n",
            "WandaVision  gênero: ['Acao', 'Drama']\n",
            "How I Met Your Mother  gênero: ['Comedia']\n",
            "Friends  gênero: ['Comedia']\n",
            "Amigos para sempre  gênero: ['Comedia', 'Drama']\n",
            "After  gênero: ['Drama']\n",
            "Game of Thrones  gênero: ['Drama']\n"
          ]
        }
      ]
    }
  ]
}